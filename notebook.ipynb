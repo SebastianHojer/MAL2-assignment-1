{
 "cells": [
  {
   "cell_type": "code",
   "id": "initial_id",
   "metadata": {
    "collapsed": true,
    "ExecuteTime": {
     "end_time": "2024-09-19T07:01:24.778558Z",
     "start_time": "2024-09-19T07:01:19.694861Z"
    }
   },
   "source": [
    "import tensorflow as tf\n",
    "import numpy as np\n",
    "from tensorflow.keras.models import Sequential\n",
    "from tensorflow.keras.layers import Dense, Flatten, Dropout, Input\n",
    "from tensorflow.keras.optimizers import Adam, AdamW\n",
    "from sklearn.model_selection import train_test_split\n",
    "import matplotlib.pyplot as plt"
   ],
   "outputs": [],
   "execution_count": 8
  },
  {
   "metadata": {
    "ExecuteTime": {
     "end_time": "2024-09-19T07:04:54.378058Z",
     "start_time": "2024-09-19T07:04:48.018985Z"
    }
   },
   "cell_type": "code",
   "source": [
    "X = np.load('./data/x_digits.npy')\n",
    "y = np.load('./data/y_digits.npy')"
   ],
   "id": "2d90f811f8c5ed73",
   "outputs": [
    {
     "data": {
      "text/plain": [
       "(35631,)"
      ]
     },
     "execution_count": 12,
     "metadata": {},
     "output_type": "execute_result"
    }
   ],
   "execution_count": 12
  },
  {
   "metadata": {
    "ExecuteTime": {
     "end_time": "2024-09-19T07:05:40.736666Z",
     "start_time": "2024-09-19T07:05:40.713456Z"
    }
   },
   "cell_type": "code",
   "source": "y.shape",
   "id": "f5db77b0ca0ec6ce",
   "outputs": [
    {
     "data": {
      "text/plain": [
       "(35631,)"
      ]
     },
     "execution_count": 14,
     "metadata": {},
     "output_type": "execute_result"
    }
   ],
   "execution_count": 14
  },
  {
   "metadata": {
    "ExecuteTime": {
     "end_time": "2024-09-19T07:03:52.287280Z",
     "start_time": "2024-09-19T07:03:29.876386Z"
    }
   },
   "cell_type": "code",
   "source": [
    "X_train_val, X_test, y_train_val, y_test = train_test_split(X, y, test_size=0.2, random_state=42)\n",
    "X_train, X_val, y_train, y_val = train_test_split(X_train_val, y_train_val, test_size=0.2, random_state=42)"
   ],
   "id": "e89f51aa14e6ee0d",
   "outputs": [],
   "execution_count": 10
  },
  {
   "metadata": {
    "ExecuteTime": {
     "end_time": "2024-09-19T07:10:37.564973Z",
     "start_time": "2024-09-19T07:07:10.131821Z"
    }
   },
   "cell_type": "code",
   "source": [
    "tf.random.set_seed(42)\n",
    "model = Sequential()\n",
    "model.add(Input(shape=(129, 71)))\n",
    "model.add(Flatten())\n",
    "model.add(Dense(64, activation='relu'))\n",
    "model.add(Dense(10, activation='softmax'))\n",
    "model.compile(optimizer=Adam(), loss='sparse_categorical_crossentropy', metrics=['accuracy'])\n",
    "history = model.fit(X_train, y_train, validation_data=(X_val, y_val), epochs=20, batch_size=32)"
   ],
   "id": "4cf2b912de7e7cbf",
   "outputs": [
    {
     "name": "stdout",
     "output_type": "stream",
     "text": [
      "Epoch 1/20\n",
      "\u001B[1m713/713\u001B[0m \u001B[32m━━━━━━━━━━━━━━━━━━━━\u001B[0m\u001B[37m\u001B[0m \u001B[1m15s\u001B[0m 17ms/step - accuracy: 0.1292 - loss: 5.4845 - val_accuracy: 0.1466 - val_loss: 2.5769\n",
      "Epoch 2/20\n",
      "\u001B[1m713/713\u001B[0m \u001B[32m━━━━━━━━━━━━━━━━━━━━\u001B[0m\u001B[37m\u001B[0m \u001B[1m10s\u001B[0m 14ms/step - accuracy: 0.1459 - loss: 2.6882 - val_accuracy: 0.1531 - val_loss: 2.5889\n",
      "Epoch 3/20\n",
      "\u001B[1m713/713\u001B[0m \u001B[32m━━━━━━━━━━━━━━━━━━━━\u001B[0m\u001B[37m\u001B[0m \u001B[1m9s\u001B[0m 13ms/step - accuracy: 0.1560 - loss: 2.5510 - val_accuracy: 0.1596 - val_loss: 2.6610\n",
      "Epoch 4/20\n",
      "\u001B[1m713/713\u001B[0m \u001B[32m━━━━━━━━━━━━━━━━━━━━\u001B[0m\u001B[37m\u001B[0m \u001B[1m10s\u001B[0m 14ms/step - accuracy: 0.1587 - loss: 2.5551 - val_accuracy: 0.1631 - val_loss: 2.4707\n",
      "Epoch 5/20\n",
      "\u001B[1m713/713\u001B[0m \u001B[32m━━━━━━━━━━━━━━━━━━━━\u001B[0m\u001B[37m\u001B[0m \u001B[1m10s\u001B[0m 14ms/step - accuracy: 0.1633 - loss: 2.4314 - val_accuracy: 0.1673 - val_loss: 2.3785\n",
      "Epoch 6/20\n",
      "\u001B[1m713/713\u001B[0m \u001B[32m━━━━━━━━━━━━━━━━━━━━\u001B[0m\u001B[37m\u001B[0m \u001B[1m9s\u001B[0m 13ms/step - accuracy: 0.1658 - loss: 2.3168 - val_accuracy: 0.1749 - val_loss: 2.3808\n",
      "Epoch 7/20\n",
      "\u001B[1m713/713\u001B[0m \u001B[32m━━━━━━━━━━━━━━━━━━━━\u001B[0m\u001B[37m\u001B[0m \u001B[1m10s\u001B[0m 13ms/step - accuracy: 0.1706 - loss: 2.2238 - val_accuracy: 0.1817 - val_loss: 2.2650\n",
      "Epoch 8/20\n",
      "\u001B[1m713/713\u001B[0m \u001B[32m━━━━━━━━━━━━━━━━━━━━\u001B[0m\u001B[37m\u001B[0m \u001B[1m10s\u001B[0m 13ms/step - accuracy: 0.1794 - loss: 2.1606 - val_accuracy: 0.1891 - val_loss: 2.2381\n",
      "Epoch 9/20\n",
      "\u001B[1m713/713\u001B[0m \u001B[32m━━━━━━━━━━━━━━━━━━━━\u001B[0m\u001B[37m\u001B[0m \u001B[1m10s\u001B[0m 13ms/step - accuracy: 0.1817 - loss: 2.3427 - val_accuracy: 0.1884 - val_loss: 2.3860\n",
      "Epoch 10/20\n",
      "\u001B[1m713/713\u001B[0m \u001B[32m━━━━━━━━━━━━━━━━━━━━\u001B[0m\u001B[37m\u001B[0m \u001B[1m10s\u001B[0m 13ms/step - accuracy: 0.1869 - loss: 2.3079 - val_accuracy: 0.1803 - val_loss: 2.2990\n",
      "Epoch 11/20\n",
      "\u001B[1m713/713\u001B[0m \u001B[32m━━━━━━━━━━━━━━━━━━━━\u001B[0m\u001B[37m\u001B[0m \u001B[1m10s\u001B[0m 14ms/step - accuracy: 0.1854 - loss: 2.1267 - val_accuracy: 0.1940 - val_loss: 2.2427\n",
      "Epoch 12/20\n",
      "\u001B[1m713/713\u001B[0m \u001B[32m━━━━━━━━━━━━━━━━━━━━\u001B[0m\u001B[37m\u001B[0m \u001B[1m10s\u001B[0m 14ms/step - accuracy: 0.1917 - loss: 2.2254 - val_accuracy: 0.1975 - val_loss: 2.1728\n",
      "Epoch 13/20\n",
      "\u001B[1m713/713\u001B[0m \u001B[32m━━━━━━━━━━━━━━━━━━━━\u001B[0m\u001B[37m\u001B[0m \u001B[1m10s\u001B[0m 14ms/step - accuracy: 0.1940 - loss: 2.2155 - val_accuracy: 0.1840 - val_loss: 2.2722\n",
      "Epoch 14/20\n",
      "\u001B[1m713/713\u001B[0m \u001B[32m━━━━━━━━━━━━━━━━━━━━\u001B[0m\u001B[37m\u001B[0m \u001B[1m11s\u001B[0m 15ms/step - accuracy: 0.1979 - loss: 2.3180 - val_accuracy: 0.1951 - val_loss: 2.6076\n",
      "Epoch 15/20\n",
      "\u001B[1m713/713\u001B[0m \u001B[32m━━━━━━━━━━━━━━━━━━━━\u001B[0m\u001B[37m\u001B[0m \u001B[1m10s\u001B[0m 14ms/step - accuracy: 0.1989 - loss: 2.4214 - val_accuracy: 0.2093 - val_loss: 2.1395\n",
      "Epoch 16/20\n",
      "\u001B[1m713/713\u001B[0m \u001B[32m━━━━━━━━━━━━━━━━━━━━\u001B[0m\u001B[37m\u001B[0m \u001B[1m9s\u001B[0m 13ms/step - accuracy: 0.2184 - loss: 2.0915 - val_accuracy: 0.2275 - val_loss: 2.1055\n",
      "Epoch 17/20\n",
      "\u001B[1m713/713\u001B[0m \u001B[32m━━━━━━━━━━━━━━━━━━━━\u001B[0m\u001B[37m\u001B[0m \u001B[1m10s\u001B[0m 13ms/step - accuracy: 0.2520 - loss: 1.9819 - val_accuracy: 0.2563 - val_loss: 2.0371\n",
      "Epoch 18/20\n",
      "\u001B[1m713/713\u001B[0m \u001B[32m━━━━━━━━━━━━━━━━━━━━\u001B[0m\u001B[37m\u001B[0m \u001B[1m10s\u001B[0m 14ms/step - accuracy: 0.2930 - loss: 1.8728 - val_accuracy: 0.2980 - val_loss: 1.9446\n",
      "Epoch 19/20\n",
      "\u001B[1m713/713\u001B[0m \u001B[32m━━━━━━━━━━━━━━━━━━━━\u001B[0m\u001B[37m\u001B[0m \u001B[1m9s\u001B[0m 13ms/step - accuracy: 0.3129 - loss: 1.8125 - val_accuracy: 0.3164 - val_loss: 1.8894\n",
      "Epoch 20/20\n",
      "\u001B[1m713/713\u001B[0m \u001B[32m━━━━━━━━━━━━━━━━━━━━\u001B[0m\u001B[37m\u001B[0m \u001B[1m10s\u001B[0m 13ms/step - accuracy: 0.3293 - loss: 1.7544 - val_accuracy: 0.3150 - val_loss: 1.8583\n"
     ]
    }
   ],
   "execution_count": 15
  },
  {
   "metadata": {
    "ExecuteTime": {
     "end_time": "2024-09-19T07:23:29.099416Z",
     "start_time": "2024-09-19T07:16:37.497027Z"
    }
   },
   "cell_type": "code",
   "source": [
    "tf.random.set_seed(42)\n",
    "model = Sequential()\n",
    "model.add(Input(shape=(129, 71)))\n",
    "model.add(Flatten())\n",
    "model.add(Dense(128, activation='relu'))\n",
    "model.add(Dense(10, activation='softmax'))\n",
    "model.compile(optimizer=Adam(), loss='sparse_categorical_crossentropy', metrics=['accuracy'])\n",
    "history = model.fit(X_train, y_train, validation_data=(X_val, y_val), epochs=30, batch_size=32)"
   ],
   "id": "b16aa8104b07364d",
   "outputs": [
    {
     "name": "stdout",
     "output_type": "stream",
     "text": [
      "Epoch 1/30\n",
      "\u001B[1m713/713\u001B[0m \u001B[32m━━━━━━━━━━━━━━━━━━━━\u001B[0m\u001B[37m\u001B[0m \u001B[1m18s\u001B[0m 21ms/step - accuracy: 0.1350 - loss: 7.8632 - val_accuracy: 0.1672 - val_loss: 2.7162\n",
      "Epoch 2/30\n",
      "\u001B[1m713/713\u001B[0m \u001B[32m━━━━━━━━━━━━━━━━━━━━\u001B[0m\u001B[37m\u001B[0m \u001B[1m14s\u001B[0m 20ms/step - accuracy: 0.1646 - loss: 3.0238 - val_accuracy: 0.1768 - val_loss: 2.5568\n",
      "Epoch 3/30\n",
      "\u001B[1m713/713\u001B[0m \u001B[32m━━━━━━━━━━━━━━━━━━━━\u001B[0m\u001B[37m\u001B[0m \u001B[1m14s\u001B[0m 20ms/step - accuracy: 0.1737 - loss: 2.6727 - val_accuracy: 0.1798 - val_loss: 2.5813\n",
      "Epoch 4/30\n",
      "\u001B[1m713/713\u001B[0m \u001B[32m━━━━━━━━━━━━━━━━━━━━\u001B[0m\u001B[37m\u001B[0m \u001B[1m15s\u001B[0m 20ms/step - accuracy: 0.1854 - loss: 2.5970 - val_accuracy: 0.1723 - val_loss: 2.5872\n",
      "Epoch 5/30\n",
      "\u001B[1m713/713\u001B[0m \u001B[32m━━━━━━━━━━━━━━━━━━━━\u001B[0m\u001B[37m\u001B[0m \u001B[1m14s\u001B[0m 19ms/step - accuracy: 0.1861 - loss: 2.5949 - val_accuracy: 0.1908 - val_loss: 2.4933\n",
      "Epoch 6/30\n",
      "\u001B[1m713/713\u001B[0m \u001B[32m━━━━━━━━━━━━━━━━━━━━\u001B[0m\u001B[37m\u001B[0m \u001B[1m14s\u001B[0m 19ms/step - accuracy: 0.1876 - loss: 2.5507 - val_accuracy: 0.1914 - val_loss: 2.4528\n",
      "Epoch 7/30\n",
      "\u001B[1m713/713\u001B[0m \u001B[32m━━━━━━━━━━━━━━━━━━━━\u001B[0m\u001B[37m\u001B[0m \u001B[1m13s\u001B[0m 19ms/step - accuracy: 0.2020 - loss: 2.3755 - val_accuracy: 0.2166 - val_loss: 2.3414\n",
      "Epoch 8/30\n",
      "\u001B[1m713/713\u001B[0m \u001B[32m━━━━━━━━━━━━━━━━━━━━\u001B[0m\u001B[37m\u001B[0m \u001B[1m14s\u001B[0m 19ms/step - accuracy: 0.2138 - loss: 2.2317 - val_accuracy: 0.2182 - val_loss: 2.3038\n",
      "Epoch 9/30\n",
      "\u001B[1m713/713\u001B[0m \u001B[32m━━━━━━━━━━━━━━━━━━━━\u001B[0m\u001B[37m\u001B[0m \u001B[1m14s\u001B[0m 19ms/step - accuracy: 0.2278 - loss: 2.1602 - val_accuracy: 0.2287 - val_loss: 2.1924\n",
      "Epoch 10/30\n",
      "\u001B[1m713/713\u001B[0m \u001B[32m━━━━━━━━━━━━━━━━━━━━\u001B[0m\u001B[37m\u001B[0m \u001B[1m14s\u001B[0m 19ms/step - accuracy: 0.2371 - loss: 2.2928 - val_accuracy: 0.2408 - val_loss: 2.5729\n",
      "Epoch 11/30\n",
      "\u001B[1m713/713\u001B[0m \u001B[32m━━━━━━━━━━━━━━━━━━━━\u001B[0m\u001B[37m\u001B[0m \u001B[1m13s\u001B[0m 19ms/step - accuracy: 0.2446 - loss: 2.6722 - val_accuracy: 0.2491 - val_loss: 2.2328\n",
      "Epoch 12/30\n",
      "\u001B[1m713/713\u001B[0m \u001B[32m━━━━━━━━━━━━━━━━━━━━\u001B[0m\u001B[37m\u001B[0m \u001B[1m12s\u001B[0m 16ms/step - accuracy: 0.2607 - loss: 2.2525 - val_accuracy: 0.2589 - val_loss: 2.1365\n",
      "Epoch 13/30\n",
      "\u001B[1m713/713\u001B[0m \u001B[32m━━━━━━━━━━━━━━━━━━━━\u001B[0m\u001B[37m\u001B[0m \u001B[1m12s\u001B[0m 17ms/step - accuracy: 0.2720 - loss: 2.0307 - val_accuracy: 0.2619 - val_loss: 2.1959\n",
      "Epoch 14/30\n",
      "\u001B[1m713/713\u001B[0m \u001B[32m━━━━━━━━━━━━━━━━━━━━\u001B[0m\u001B[37m\u001B[0m \u001B[1m12s\u001B[0m 16ms/step - accuracy: 0.2953 - loss: 2.0012 - val_accuracy: 0.2863 - val_loss: 2.4468\n",
      "Epoch 15/30\n",
      "\u001B[1m713/713\u001B[0m \u001B[32m━━━━━━━━━━━━━━━━━━━━\u001B[0m\u001B[37m\u001B[0m \u001B[1m14s\u001B[0m 20ms/step - accuracy: 0.3047 - loss: 2.0986 - val_accuracy: 0.2773 - val_loss: 2.4031\n",
      "Epoch 16/30\n",
      "\u001B[1m713/713\u001B[0m \u001B[32m━━━━━━━━━━━━━━━━━━━━\u001B[0m\u001B[37m\u001B[0m \u001B[1m14s\u001B[0m 20ms/step - accuracy: 0.3131 - loss: 2.0151 - val_accuracy: 0.2898 - val_loss: 2.1082\n",
      "Epoch 17/30\n",
      "\u001B[1m713/713\u001B[0m \u001B[32m━━━━━━━━━━━━━━━━━━━━\u001B[0m\u001B[37m\u001B[0m \u001B[1m16s\u001B[0m 22ms/step - accuracy: 0.3274 - loss: 1.8218 - val_accuracy: 0.3059 - val_loss: 2.1009\n",
      "Epoch 18/30\n",
      "\u001B[1m713/713\u001B[0m \u001B[32m━━━━━━━━━━━━━━━━━━━━\u001B[0m\u001B[37m\u001B[0m \u001B[1m14s\u001B[0m 20ms/step - accuracy: 0.3375 - loss: 1.7580 - val_accuracy: 0.3170 - val_loss: 2.0672\n",
      "Epoch 19/30\n",
      "\u001B[1m713/713\u001B[0m \u001B[32m━━━━━━━━━━━━━━━━━━━━\u001B[0m\u001B[37m\u001B[0m \u001B[1m13s\u001B[0m 18ms/step - accuracy: 0.3460 - loss: 1.7137 - val_accuracy: 0.3401 - val_loss: 2.0479\n",
      "Epoch 20/30\n",
      "\u001B[1m713/713\u001B[0m \u001B[32m━━━━━━━━━━━━━━━━━━━━\u001B[0m\u001B[37m\u001B[0m \u001B[1m13s\u001B[0m 18ms/step - accuracy: 0.3616 - loss: 1.8310 - val_accuracy: 0.3377 - val_loss: 2.0722\n",
      "Epoch 21/30\n",
      "\u001B[1m713/713\u001B[0m \u001B[32m━━━━━━━━━━━━━━━━━━━━\u001B[0m\u001B[37m\u001B[0m \u001B[1m13s\u001B[0m 18ms/step - accuracy: 0.3659 - loss: 1.7801 - val_accuracy: 0.3661 - val_loss: 2.2351\n",
      "Epoch 22/30\n",
      "\u001B[1m713/713\u001B[0m \u001B[32m━━━━━━━━━━━━━━━━━━━━\u001B[0m\u001B[37m\u001B[0m \u001B[1m14s\u001B[0m 19ms/step - accuracy: 0.3805 - loss: 1.7403 - val_accuracy: 0.3752 - val_loss: 2.0661\n",
      "Epoch 23/30\n",
      "\u001B[1m713/713\u001B[0m \u001B[32m━━━━━━━━━━━━━━━━━━━━\u001B[0m\u001B[37m\u001B[0m \u001B[1m13s\u001B[0m 18ms/step - accuracy: 0.3907 - loss: 1.7248 - val_accuracy: 0.3794 - val_loss: 1.9906\n",
      "Epoch 24/30\n",
      "\u001B[1m713/713\u001B[0m \u001B[32m━━━━━━━━━━━━━━━━━━━━\u001B[0m\u001B[37m\u001B[0m \u001B[1m13s\u001B[0m 18ms/step - accuracy: 0.4061 - loss: 1.5822 - val_accuracy: 0.3840 - val_loss: 1.9171\n",
      "Epoch 25/30\n",
      "\u001B[1m713/713\u001B[0m \u001B[32m━━━━━━━━━━━━━━━━━━━━\u001B[0m\u001B[37m\u001B[0m \u001B[1m13s\u001B[0m 18ms/step - accuracy: 0.4248 - loss: 1.5648 - val_accuracy: 0.3754 - val_loss: 1.9092\n",
      "Epoch 26/30\n",
      "\u001B[1m713/713\u001B[0m \u001B[32m━━━━━━━━━━━━━━━━━━━━\u001B[0m\u001B[37m\u001B[0m \u001B[1m13s\u001B[0m 19ms/step - accuracy: 0.4390 - loss: 1.5646 - val_accuracy: 0.3975 - val_loss: 1.8880\n",
      "Epoch 27/30\n",
      "\u001B[1m713/713\u001B[0m \u001B[32m━━━━━━━━━━━━━━━━━━━━\u001B[0m\u001B[37m\u001B[0m \u001B[1m12s\u001B[0m 17ms/step - accuracy: 0.4435 - loss: 1.5207 - val_accuracy: 0.4278 - val_loss: 1.8384\n",
      "Epoch 28/30\n",
      "\u001B[1m713/713\u001B[0m \u001B[32m━━━━━━━━━━━━━━━━━━━━\u001B[0m\u001B[37m\u001B[0m \u001B[1m14s\u001B[0m 19ms/step - accuracy: 0.4645 - loss: 1.4685 - val_accuracy: 0.4161 - val_loss: 2.1088\n",
      "Epoch 29/30\n",
      "\u001B[1m713/713\u001B[0m \u001B[32m━━━━━━━━━━━━━━━━━━━━\u001B[0m\u001B[37m\u001B[0m \u001B[1m14s\u001B[0m 20ms/step - accuracy: 0.4747 - loss: 1.5943 - val_accuracy: 0.4269 - val_loss: 2.1797\n",
      "Epoch 30/30\n",
      "\u001B[1m713/713\u001B[0m \u001B[32m━━━━━━━━━━━━━━━━━━━━\u001B[0m\u001B[37m\u001B[0m \u001B[1m14s\u001B[0m 19ms/step - accuracy: 0.4859 - loss: 1.7697 - val_accuracy: 0.4443 - val_loss: 1.9729\n"
     ]
    }
   ],
   "execution_count": 17
  },
  {
   "metadata": {
    "ExecuteTime": {
     "end_time": "2024-09-19T07:10:54.560601Z",
     "start_time": "2024-09-19T07:10:53.515901Z"
    }
   },
   "cell_type": "code",
   "source": [
    "plt.figure()\n",
    "plt.title(\"Learning curves\")\n",
    "plt.xlabel(\"Epoch\")\n",
    "plt.ylabel(\"Accuracy\")\n",
    "plt.plot(history.history['accuracy'], label = 'train')\n",
    "plt.plot(history.history['val_accuracy'], label = 'valid')\n",
    "plt.legend()\n",
    "plt.show()"
   ],
   "id": "1f7a480d490f2ab6",
   "outputs": [
    {
     "data": {
      "text/plain": [
       "<Figure size 640x480 with 1 Axes>"
      ],
      "image/png": "[encoded data removed]"
     },
     "metadata": {},
     "output_type": "display_data"
    }
   ],
   "execution_count": 16
  }
 ],
 "metadata": {
  "kernelspec": {
   "display_name": "Python 3",
   "language": "python",
   "name": "python3"
  },
  "language_info": {
   "codemirror_mode": {
    "name": "ipython",
    "version": 2
   },
   "file_extension": ".py",
   "mimetype": "text/x-python",
   "name": "python",
   "nbconvert_exporter": "python",
   "pygments_lexer": "ipython2",
   "version": "2.7.6"
  }
 },
 "nbformat": 4,
 "nbformat_minor": 5
}
